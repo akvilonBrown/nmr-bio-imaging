{
  "nbformat": 4,
  "nbformat_minor": 0,
  "metadata": {
    "colab": {
      "name": "autoencoder.ipynb",
      "provenance": [],
      "collapsed_sections": []
    },
    "kernelspec": {
      "name": "python3",
      "display_name": "Python 3"
    },
    "accelerator": "GPU"
  },
  "cells": [
    {
      "cell_type": "markdown",
      "metadata": {
        "id": "j6ER0lj3hXIa",
        "colab_type": "text"
      },
      "source": [
        "https://colab.research.google.com/drive/1aBlBLY3VAeejgSKRc8NJ_QsN1ZFIvM96"
      ]
    },
    {
      "cell_type": "code",
      "metadata": {
        "id": "zDI1FgrEAk5A",
        "colab_type": "code",
        "outputId": "ae22b69d-48ab-45b7-dfd7-a72eff4ed267",
        "colab": {
          "base_uri": "https://localhost:8080/",
          "height": 124
        }
      },
      "source": [
        "import os\n",
        "from google.colab import drive\n",
        "\n",
        "ROOT = \"/content/drive\"\n",
        "PROJ = \"My Drive/DriveUploader/big_data\"\n",
        "\n",
        "drive.mount(ROOT)"
      ],
      "execution_count": 1,
      "outputs": [
        {
          "output_type": "stream",
          "text": [
            "Go to this URL in a browser: https://accounts.google.com/o/oauth2/auth?client_id=947318989803-6bn6qk8qdgf4n4g3pfee6491hc0brc4i.apps.googleusercontent.com&redirect_uri=urn%3aietf%3awg%3aoauth%3a2.0%3aoob&response_type=code&scope=email%20https%3a%2f%2fwww.googleapis.com%2fauth%2fdocs.test%20https%3a%2f%2fwww.googleapis.com%2fauth%2fdrive%20https%3a%2f%2fwww.googleapis.com%2fauth%2fdrive.photos.readonly%20https%3a%2f%2fwww.googleapis.com%2fauth%2fpeopleapi.readonly\n",
            "\n",
            "Enter your authorization code:\n",
            "··········\n",
            "Mounted at /content/drive\n"
          ],
          "name": "stdout"
        }
      ]
    },
    {
      "cell_type": "code",
      "metadata": {
        "id": "D1perj6Wu8CH",
        "colab_type": "code",
        "colab": {}
      },
      "source": [
        "!unzip -oq \"/content/drive/My Drive/DriveUploader/big_data.zip\"\n",
        "PROJECT_PATH_TRAIN_LOCAL =\"./big_data/train/\"  # if command executed earlier !unzip -oq \"/content/drive/My Drive/DriveUploader/big_data.zip\""
      ],
      "execution_count": 0,
      "outputs": []
    },
    {
      "cell_type": "code",
      "metadata": {
        "id": "zWCPjSJFs_h8",
        "colab_type": "code",
        "colab": {}
      },
      "source": [
        "!unzip -oq \"/content/drive/My Drive/DriveUploader/small_data.zip\"\n",
        "PROJECT_PATH_TRAIN_LOCAL =\"./small_data/train/\" "
      ],
      "execution_count": 0,
      "outputs": []
    },
    {
      "cell_type": "code",
      "metadata": {
        "id": "lYphncmKxeSs",
        "colab_type": "code",
        "outputId": "9e0ca06a-bb1f-42fa-d53d-96baf92ddc86",
        "colab": {
          "base_uri": "https://localhost:8080/",
          "height": 34
        }
      },
      "source": [
        "!ls ./big_data/train/"
      ],
      "execution_count": 0,
      "outputs": [
        {
          "output_type": "stream",
          "text": [
            "image  label\n"
          ],
          "name": "stdout"
        }
      ]
    },
    {
      "cell_type": "code",
      "metadata": {
        "id": "7WbIpV2C15An",
        "colab_type": "code",
        "outputId": "8af6e678-1ee0-4d01-a793-4e75cfbcc9df",
        "colab": {
          "base_uri": "https://localhost:8080/",
          "height": 52
        }
      },
      "source": [
        "\n",
        "\n",
        "\"\"\"\n",
        "inspired by Jason M. Manley, 2018\n",
        "jmanley@rockefeller.edu\n",
        "https://github.com/jmmanley/conv-autoencoder/\n",
        "\"\"\"\n",
        "\n",
        "PROJECT_PATH = os.path.join(ROOT, PROJ)\n",
        "PROJECT_PATH_VALIDATION = os.path.join(PROJECT_PATH, \"validation\")\n",
        "PROJECT_PATH_TEST = os.path.join(PROJECT_PATH, 'test/image')\n",
        "PROJECT_PATH_DEBUG = os.path.join(PROJECT_PATH, 'debug')\n",
        "\n",
        "INPUT_SIZE = (160,480)\n",
        "INPUT_SIZE3 = INPUT_SIZE + (1,)  #(160,480,1)\n",
        "TRAIN_SIZE= len(os.listdir(os.path.join(PROJECT_PATH_TRAIN_LOCAL, \"image\"))) #280 #11935\n",
        "TEST_SIZE = len(os.listdir(os.path.join(PROJECT_PATH, \"test/image\"))) \n",
        "BATCH_SIZE = 2\n",
        "STEPS_PEPOCH=TRAIN_SIZE//BATCH_SIZE\n",
        "NUM_CLASSES=5\n",
        "\n",
        "%tensorflow_version 1.x\n",
        "\n",
        "\n",
        "\n",
        "from __future__ import print_function\n",
        "from keras.preprocessing.image import ImageDataGenerator\n",
        "from keras.utils import to_categorical\n",
        "import numpy as np \n",
        "import os\n",
        "import glob\n",
        "import skimage.io as io\n",
        "import skimage.transform as trans\n",
        "import cv2\n",
        "\n",
        "background = 0\n",
        "class1 = 105 #77\n",
        "class2 = 176  #129\n",
        "class3 = 222 #177\n",
        "class4 = 255\n",
        "\n",
        "# sometimes ImageGeneratro converts colored mask into grayscale pixels differently - for example 105 or 106, or 222/223\n",
        "class1ext = 106\n",
        "class3ext = 223\n",
        "\n",
        "# Grayscale dictionary to convert mask image into one-hot encoded 5-class label (and back if required).\n",
        "# Colored mask becomes graysclale when opened in respective mode\n",
        "GRAY_DICT = np.array([background, class1, class2, class3, class4, class1ext, class3ext])\n",
        "\n",
        "\n",
        "def img_resize(img, target_size):\n",
        "  #print(f\"img_resize img.shape {img.shape}\")\n",
        "  new_img = np.zeros(img.shape)\n",
        "  img = np.reshape(img, (img.shape[0], img.shape[1], img.shape[2])) ## casting to simpler dimensions like (160, 480) not  (160, 480, 1)\n",
        "  #print(f\"img_resize reshaped img.shape {img.shape}\")\n",
        "  for i, single_img in enumerate(img):\n",
        "      single_img = cv2.resize(single_img, (target_size[1], target_size[0]), interpolation = cv2.INTER_NEAREST) # cv image size format (width, heigth) so I need to swap\n",
        "      single_img = np.reshape(single_img,single_img.shape+(1,))  # casting back to tensor format  (160, 480, 1)\n",
        "      new_img[i] = single_img\n",
        "  return new_img\n",
        "\n",
        "\n",
        "def adjustData5cl(img,mask,num_class, target_size, batch_size, resize=False):    \n",
        "\n",
        "    if(resize):\n",
        "        #print(f\" before resize  np.unique(mask) {np.unique(mask)}\")\n",
        "        mask = img_resize(mask, target_size)\n",
        "        img = img_resize(img, target_size) \n",
        "        #print(f\" after resize  np.unique(mask) {np.unique(mask)}\")   \n",
        "    \n",
        "    img = img / 255\n",
        "\n",
        "    #mask = np.where(mask==GRAY_DICT[4], 4, mask)   # backround pixels with value 0 are already treated as class0\n",
        "    mask = np.where(mask==GRAY_DICT[1], 1, mask) \n",
        "    mask = np.where(mask==class1ext, 1, mask)\n",
        "    mask = np.where(mask==GRAY_DICT[2], 2, mask)\n",
        "    mask = np.where(mask==GRAY_DICT[3], 3, mask)\n",
        "    mask = np.where(mask==class3ext, 3, mask)\n",
        "    mask = np.where(mask==GRAY_DICT[4], 4, mask)\n",
        "\n",
        "    #print(f\"call categorical adjustData5cl, mask.shape={mask.shape}\") \n",
        "    #print(f\"np.unique(mask) {np.unique(mask)}\")     \n",
        "    mask = to_categorical(mask, NUM_CLASSES)    # using Keras lib funcion to one-hot encode\n",
        "    return (img,mask)   \n",
        "\n",
        "\n",
        "def trainGenerator(batch_size,train_path,image_folder,mask_folder,aug_dict,image_color_mode = \"grayscale\",\n",
        "                    mask_color_mode = \"grayscale\",image_save_prefix  = \"image\",mask_save_prefix  = \"mask\",\n",
        "                    flag_multi_class = False,num_class = 5,save_to_dir = None,target_size = (160,480), rescale = False, seed = 1):\n",
        "    '''\n",
        "    can generate image and mask at the same time\n",
        "    use the same seed for image_datagen and mask_datagen to ensure the transformation for image and mask is the same\n",
        "    if you want to visualize the results of generator, set save_to_dir = \"your path\"\n",
        "    '''\n",
        "    image_datagen = ImageDataGenerator(**aug_dict)\n",
        "    mask_datagen = ImageDataGenerator(**aug_dict)\n",
        "    image_generator = image_datagen.flow_from_directory(\n",
        "        train_path,\n",
        "        classes = [image_folder],\n",
        "        class_mode = None,\n",
        "        color_mode = image_color_mode,\n",
        "        target_size = target_size,\n",
        "        batch_size = batch_size,\n",
        "        save_to_dir = save_to_dir,\n",
        "        save_prefix  = image_save_prefix,\n",
        "        seed = seed)\n",
        "    mask_generator = mask_datagen.flow_from_directory(\n",
        "        train_path,\n",
        "        classes = [mask_folder],\n",
        "        class_mode = None,\n",
        "        color_mode = mask_color_mode,\n",
        "        target_size = target_size,\n",
        "        batch_size = batch_size,\n",
        "        save_to_dir = save_to_dir,\n",
        "        save_prefix  = mask_save_prefix,\n",
        "        seed = seed)\n",
        "    train_generator = zip(image_generator, mask_generator)\n",
        "    for (img,mask) in train_generator:        \n",
        "        img,mask = adjustData5cl(img,mask,num_class, target_size, batch_size, resize = rescale)\n",
        "        yield (img,mask)\n",
        "\n",
        "\n",
        "\n",
        "def testGenerator(test_path,num_image = TEST_SIZE, resize = False, target_size = INPUT_SIZE):\n",
        "    files = os.listdir(test_path)\n",
        "    files.sort()\n",
        "    for i,  filename in enumerate (files):\n",
        "        img = cv2.imread(os.path.join(test_path, filename), 0)    \n",
        "        if(resize):\n",
        "            img = cv2.resize(img, (target_size[1], target_size[0]), interpolation = cv2.INTER_NEAREST)  # cv image size format (width, heigth) so I need to swap  \n",
        "        img = img / 255\n",
        "        img = np.reshape(img,img.shape+(1,))\n",
        "        img = np.reshape(img,(1,)+img.shape)\n",
        "        yield img\n",
        "\n",
        "\n",
        "def saveResult(save_dir,results, num_class = 5):\n",
        "    rshape = results.shape\n",
        "    batch = np.reshape(results, (rshape[0] * rshape[1] * rshape[2], num_class))\n",
        "    new_batch = np.zeros(batch.shape[0])\n",
        "    \n",
        "    for i in range (batch.shape[0]):\n",
        "        new_batch[i] = GRAY_DICT[np.argmax(batch[i, :])]   #convering one-hot encoded output to flat grayscale image\n",
        "    \n",
        "    new_batch = np.reshape(new_batch, (rshape[0], rshape[1], rshape[2]), 'C');\t\n",
        "    \n",
        "    for i in range(new_batch.shape[0]):\n",
        "      img = new_batch[i]\n",
        "      fl = os.path.join(save_dir, str(i)+\".bmp\")      \n",
        "      cv2.imwrite(fl, img)\n",
        "    print(f\"Results saved to folder {save_dir}\")\n",
        "\n",
        "def saveAutoResult(save_dir,rtensor):\n",
        "    #rshape = results.shape\n",
        "    batch = np.squeeze(rtensor*255)    \n",
        "    \n",
        "    for i, img in enumerate (batch):\n",
        "        fl = os.path.join(save_dir, str(i).zfill(5) +\".bmp\")      \n",
        "        cv2.imwrite(fl, img)\n",
        "\n",
        "    print(f\"Results saved to folder {save_dir}\")    \n",
        "\n",
        "def saveResultColored(save_dir,results, num_class = 5):\n",
        "    background = np.array([0,0,0])\n",
        "    class1 = np.array([0,102,153])\n",
        "    class2 = np.array([0,170,255])\n",
        "    class3 = np.array([0,255,244])\n",
        "    class4 = np.array([255,255,255])\n",
        "    COLOR_DICT = np.array([background, class1, class2, class3, class4])\n",
        "\n",
        "    rshape = results.shape\n",
        "\n",
        "    batch = np.reshape(results, (rshape[0] * rshape[1] * rshape[2], num_class))\n",
        "    new_batch = np.zeros((batch.shape[0], 3))\n",
        "    \n",
        "    for i in range (batch.shape[0]):\n",
        "        new_batch[i] = COLOR_DICT[np.argmax(batch[i, :])]\n",
        "\n",
        "    new_batch = np.reshape(new_batch, (rshape[0], rshape[1], rshape[2], 3), 'C');\t    \n",
        "\n",
        "    for i in range(new_batch.shape[0]):\n",
        "      img = new_batch[i]\n",
        "      fl = os.path.join(save_dir, str(i).zfill(5) +\".bmp\")      \n",
        "      cv2.imwrite(fl, img)\n",
        "    print(f\"Results saved to folder {save_dir}\") \n",
        "\n",
        "\n",
        "\n",
        "def debugSave(ts_img, path=PROJECT_PATH_DEBUG, pref='train'):      \n",
        "    for i in range(ts_img.shape[0]):\n",
        "        img = ts_img[i]\n",
        "        img = np.reshape(img, (160, 480))\n",
        "        #img = img * 255\n",
        "        fl = os.path.join(path, pref+str(i)+\".bmp\")      \n",
        "        cv2.imwrite(fl, img)\n",
        "\n",
        "def trainAutoGenerator(batch_size,train_path,image_folder,aug_dict,image_color_mode = \"grayscale\",\n",
        "                    image_save_prefix  = \"image\",mask_save_prefix  = \"image\", save_to_dir = None,\n",
        "                    target_size = INPUT_SIZE,rescale = False, seed = 1):\n",
        "    '''\n",
        "    can generate image and mask at the same time\n",
        "    use the same seed for image_datagen and mask_datagen to ensure the transformation for image and mask is the same\n",
        "    if you want to visualize the results of generator, set save_to_dir = \"your path\"\n",
        "    '''\n",
        "    image_datagen = ImageDataGenerator(**aug_dict)\n",
        "    mask_datagen = ImageDataGenerator(**aug_dict)\n",
        "    image_generator = image_datagen.flow_from_directory(\n",
        "        train_path,\n",
        "        classes = [image_folder],\n",
        "        class_mode = None,\n",
        "        color_mode = image_color_mode,\n",
        "        target_size = target_size,\n",
        "        batch_size = batch_size,\n",
        "        save_to_dir = save_to_dir,\n",
        "        save_prefix  = image_save_prefix,\n",
        "        seed = seed)    \n",
        "    for img in image_generator:\n",
        "        if(rescale):            \n",
        "            img = img_resize(img, target_size) \n",
        "        img = img/255        \n",
        "        yield (img,img)\n",
        "\n",
        "      "
      ],
      "execution_count": 3,
      "outputs": [
        {
          "output_type": "stream",
          "text": [
            "TensorFlow 1.x selected.\n"
          ],
          "name": "stdout"
        },
        {
          "output_type": "stream",
          "text": [
            "Using TensorFlow backend.\n"
          ],
          "name": "stderr"
        }
      ]
    },
    {
      "cell_type": "code",
      "metadata": {
        "id": "VkQModL3xy0p",
        "colab_type": "code",
        "colab": {}
      },
      "source": [
        "from keras.models import *\n",
        "from keras.layers import *\n",
        "from keras.optimizers import *\n",
        "from keras.callbacks import ModelCheckpoint, LearningRateScheduler\n",
        "from keras import backend as keras\n",
        "import os\n",
        "\n",
        "\n",
        "class UnetEncoder:\n",
        "    #constructing encoder part (uncompiled)\n",
        "    def __init__(self, pretrained_weights = None,input_size = INPUT_SIZE3):\n",
        "        self.i = 0\n",
        "        self.inputs = Input(input_size)\n",
        "        self.conv1 = Conv2D(64, 3, activation = 'relu', padding = 'same', kernel_initializer = 'he_normal')(self.inputs)\n",
        "        self.conv1 = Conv2D(64, 3, activation = 'relu', padding = 'same', kernel_initializer = 'he_normal')(self.conv1)\n",
        "        pool1 = MaxPooling2D(pool_size=(2, 2))(self.conv1)\n",
        "        self.conv2 = Conv2D(128, 3, activation = 'relu', padding = 'same', kernel_initializer = 'he_normal')(pool1)\n",
        "        self.conv2 = Conv2D(128, 3, activation = 'relu', padding = 'same', kernel_initializer = 'he_normal')(self.conv2)\n",
        "        pool2 = MaxPooling2D(pool_size=(2, 2))(self.conv2)\n",
        "        self.conv3 = Conv2D(256, 3, activation = 'relu', padding = 'same', kernel_initializer = 'he_normal')(pool2)\n",
        "        self.conv3 = Conv2D(256, 3, activation = 'relu', padding = 'same', kernel_initializer = 'he_normal')(self.conv3)\n",
        "        pool3 = MaxPooling2D(pool_size=(2, 2))(self.conv3)\n",
        "        self.conv4 = Conv2D(512, 3, activation = 'relu', padding = 'same', kernel_initializer = 'he_normal')(pool3)\n",
        "        self.conv4 = Conv2D(512, 3, activation = 'relu', padding = 'same', kernel_initializer = 'he_normal')(self.conv4)\n",
        "        self.drop4 = Dropout(0.5)(self.conv4)\n",
        "        pool4 = MaxPooling2D(pool_size=(2, 2))(self.drop4)\n",
        "        \n",
        "        self.conv5 = Conv2D(1024, 3, activation = 'relu', padding = 'same', kernel_initializer = 'he_normal')(pool4)\n",
        "        self.conv5 = Conv2D(1024, 3, activation = 'relu', padding = 'same', kernel_initializer = 'he_normal')(self.conv5)\n",
        "        self.drop5 = Dropout(0.5)(self.conv5)\n",
        "        self.encoder = Model(input = self.inputs, output = self.drop5)\n",
        "        \n",
        "    def save_weights(self, path=None, prefix=\"\"):\n",
        "        if path is None: path = os.getcwd()\n",
        "        self.encoder.save_weights(os.path.join(path, prefix + \"encoder_weights.h5\"))        \n",
        "        \n",
        "    def load_weights(self, path=None, prefix=\"\"):\n",
        "        if path is None: path = os.getcwd()\n",
        "        self.encoder.load_weights(os.path.join(path, prefix + \"encoder_weights.h5\"))\n",
        "\n",
        "    def load_weights(self, path=None, prefix=\"\"):\n",
        "        if path is None: path = os.getcwd()\n",
        "        self.encoder.load_weights(os.path.join(path, prefix + \"encoder_weights.h5\"))\n",
        "\n",
        "    def get_concat_layers(self):\n",
        "        return(self.conv1, self.conv2, self.conv3, self.drop4)\n",
        "    \n",
        "    def get_input_layer(self):\n",
        "        return(self.inputs)\n",
        "\n",
        "    def get_last_layer(self):\n",
        "        return(self.drop5)\n",
        "\t\t\n",
        "    def set_test_var(self, i):\n",
        "        self.i=i\n",
        "\n",
        "    def get_test_var(self):\n",
        "        return self.i\t\t\n",
        "\n",
        "\n",
        "class UnetFull:       \n",
        "     #constucting full Unet for training with labels\n",
        "     def __init__(self, encoder):\n",
        "         drop5 = encoder.get_last_layer()\n",
        "         encoder_layers = encoder.get_concat_layers()\n",
        "         encoder.set_test_var(10)\n",
        "         self.enc = encoder\n",
        "\t\t \n",
        "         up6 = Conv2D(512, 2, activation = 'relu', padding = 'same', kernel_initializer = 'he_normal')(UpSampling2D(size = (2,2))(drop5))\n",
        "         drop4 = encoder_layers[3]\n",
        "         merge6 = concatenate([drop4,up6], axis = 3)\n",
        "         conv6 = Conv2D(512, 3, activation = 'relu', padding = 'same', kernel_initializer = 'he_normal')(merge6)\n",
        "         conv6 = Conv2D(512, 3, activation = 'relu', padding = 'same', kernel_initializer = 'he_normal')(conv6)\n",
        "         \n",
        "         up7 = Conv2D(256, 2, activation = 'relu', padding = 'same', kernel_initializer = 'he_normal')(UpSampling2D(size = (2,2))(conv6))\n",
        "         conv3 = encoder_layers[2]\n",
        "         merge7 = concatenate([conv3,up7], axis = 3)\n",
        "         conv7 = Conv2D(256, 3, activation = 'relu', padding = 'same', kernel_initializer = 'he_normal')(merge7)\n",
        "         conv7 = Conv2D(256, 3, activation = 'relu', padding = 'same', kernel_initializer = 'he_normal')(conv7)\n",
        "         \n",
        "         up8 = Conv2D(128, 2, activation = 'relu', padding = 'same', kernel_initializer = 'he_normal')(UpSampling2D(size = (2,2))(conv7))\n",
        "         conv2 = encoder_layers[1]\n",
        "         merge8 = concatenate([conv2,up8], axis = 3)\n",
        "         conv8 = Conv2D(128, 3, activation = 'relu', padding = 'same', kernel_initializer = 'he_normal')(merge8)\n",
        "         conv8 = Conv2D(128, 3, activation = 'relu', padding = 'same', kernel_initializer = 'he_normal')(conv8)\n",
        "         \n",
        "         up9 = Conv2D(64, 2, activation = 'relu', padding = 'same', kernel_initializer = 'he_normal')(UpSampling2D(size = (2,2))(conv8))\n",
        "         conv1 = encoder_layers[0]\n",
        "         merge9 = concatenate([conv1,up9], axis = 3)\n",
        "         conv9 = Conv2D(64, 3, activation = 'relu', padding = 'same', kernel_initializer = 'he_normal')(merge9)\n",
        "         conv9 = Conv2D(64, 3, activation = 'relu', padding = 'same', kernel_initializer = 'he_normal')(conv9)\n",
        "         #conv9 = Conv2D(2, 3, activation = 'relu', padding = 'same', kernel_initializer = 'he_normal')(conv9)\n",
        "         conv10 = Conv2D(5, 1, activation = 'softmax')(conv9)\n",
        "         \n",
        "         self.model = Model(input = encoder.get_input_layer(), output = conv10)         \n",
        "         self.model.compile(optimizer = Adam(lr = 1e-4), loss = 'categorical_crossentropy', metrics = ['accuracy'])\n",
        "            \n",
        "     def get_model(self):         \n",
        "            return self.model\n",
        "\t\t\n",
        "     def get_encoder(self):\n",
        "            return self.enc\t\n",
        "\n",
        "class UnetAuto:       \n",
        "     #constucting autoencoder Unet\n",
        "     def __init__(self, encoder):\n",
        "         drop5 = encoder.get_last_layer()\n",
        "         #encoder_layers = encoder.get_concat_layers()\n",
        "         \n",
        "         up6 = Conv2D(512, 2, activation = 'relu', padding = 'same', kernel_initializer = 'he_normal')(UpSampling2D(size = (2,2))(drop5))\n",
        "         #drop4 = encoder_layers[3]\n",
        "         #merge6 = concatenate([drop4,up6], axis = 3)\n",
        "         conv6 = Conv2D(512, 3, activation = 'relu', padding = 'same', kernel_initializer = 'he_normal')(up6)\n",
        "         conv6 = Conv2D(512, 3, activation = 'relu', padding = 'same', kernel_initializer = 'he_normal')(conv6)\n",
        "         \n",
        "         up7 = Conv2D(256, 2, activation = 'relu', padding = 'same', kernel_initializer = 'he_normal')(UpSampling2D(size = (2,2))(conv6))\n",
        "         #conv3 = encoder_layers[2]\n",
        "         #merge7 = concatenate([conv3,up7], axis = 3)\n",
        "         conv7 = Conv2D(256, 3, activation = 'relu', padding = 'same', kernel_initializer = 'he_normal')(up7)\n",
        "         conv7 = Conv2D(256, 3, activation = 'relu', padding = 'same', kernel_initializer = 'he_normal')(conv7)\n",
        "         \n",
        "         up8 = Conv2D(128, 2, activation = 'relu', padding = 'same', kernel_initializer = 'he_normal')(UpSampling2D(size = (2,2))(conv7))\n",
        "         #conv2 = encoder_layers[1]\n",
        "         #merge8 = concatenate([conv2,up8], axis = 3)\n",
        "         conv8 = Conv2D(128, 3, activation = 'relu', padding = 'same', kernel_initializer = 'he_normal')(up8)\n",
        "         conv8 = Conv2D(128, 3, activation = 'relu', padding = 'same', kernel_initializer = 'he_normal')(conv8)\n",
        "         \n",
        "         up9 = Conv2D(64, 2, activation = 'relu', padding = 'same', kernel_initializer = 'he_normal')(UpSampling2D(size = (2,2))(conv8))\n",
        "         #conv1 = encoder_layers[0]\n",
        "         #merge9 = concatenate([conv1,up9], axis = 3)\n",
        "         conv9 = Conv2D(64, 3, activation = 'relu', padding = 'same', kernel_initializer = 'he_normal')(up9)\n",
        "         conv9 = Conv2D(64, 3, activation = 'relu', padding = 'same', kernel_initializer = 'he_normal')(conv9)\n",
        "         conv9 = Conv2D(2, 3, activation = 'relu', padding = 'same', kernel_initializer = 'he_normal')(conv9)\n",
        "         conv10 = Conv2D(1, 1, activation = 'sigmoid')(conv9)\n",
        "         \n",
        "         self.model = Model(input = encoder.get_input_layer(), output = conv10)\n",
        "         \n",
        "         #self.model.compile(optimizer = Adam(lr = 1e-4), loss = 'mse', metrics = ['accuracy'])\n",
        "         self.model.compile(optimizer = RMSprop(), loss = 'mean_squared_error', metrics = ['accuracy'])\n",
        " \n",
        "         \n",
        "     def get_model(self):         \n",
        "            return self.model\n",
        "\n",
        "class UnetExtra:       \n",
        "     #constucting autoencoder Unet\n",
        "     def __init__(self, encoder):\n",
        "         drop5 = encoder.get_last_layer()\n",
        "         #encoder_layers = encoder.get_concat_layers()\n",
        "         \n",
        "         up6 = Conv2D(512, 2, activation = 'relu', padding = 'same', kernel_initializer = 'he_normal')(UpSampling2D(size = (2,2))(drop5))\n",
        "         #drop4 = encoder_layers[3]\n",
        "         #merge6 = concatenate([drop4,up6], axis = 3)\n",
        "         conv6 = Conv2D(512, 3, activation = 'relu', padding = 'same', kernel_initializer = 'he_normal')(up6)\n",
        "         conv6 = Conv2D(512, 3, activation = 'relu', padding = 'same', kernel_initializer = 'he_normal')(conv6)\n",
        "         \n",
        "         up7 = Conv2D(256, 2, activation = 'relu', padding = 'same', kernel_initializer = 'he_normal')(UpSampling2D(size = (2,2))(conv6))\n",
        "         #conv3 = encoder_layers[2]\n",
        "         #merge7 = concatenate([conv3,up7], axis = 3)\n",
        "         conv7 = Conv2D(256, 3, activation = 'relu', padding = 'same', kernel_initializer = 'he_normal')(up7)\n",
        "         conv7 = Conv2D(256, 3, activation = 'relu', padding = 'same', kernel_initializer = 'he_normal')(conv7)\n",
        "         \n",
        "         up8 = Conv2D(128, 2, activation = 'relu', padding = 'same', kernel_initializer = 'he_normal')(UpSampling2D(size = (2,2))(conv7))\n",
        "         #conv2 = encoder_layers[1]\n",
        "         #merge8 = concatenate([conv2,up8], axis = 3)\n",
        "         conv8 = Conv2D(128, 3, activation = 'relu', padding = 'same', kernel_initializer = 'he_normal')(up8)\n",
        "         conv8 = Conv2D(128, 3, activation = 'relu', padding = 'same', kernel_initializer = 'he_normal')(conv8)\n",
        "         \n",
        "         up9 = Conv2D(64, 2, activation = 'relu', padding = 'same', kernel_initializer = 'he_normal')(UpSampling2D(size = (2,2))(conv8))\n",
        "         #conv1 = encoder_layers[0]\n",
        "         #merge9 = concatenate([conv1,up9], axis = 3)\n",
        "         conv9 = Conv2D(64, 3, activation = 'relu', padding = 'same', kernel_initializer = 'he_normal')(up9)\n",
        "         conv9 = Conv2D(64, 3, activation = 'relu', padding = 'same', kernel_initializer = 'he_normal')(conv9)\n",
        "         conv9 = Conv2D(2, 3, activation = 'relu', padding = 'same', kernel_initializer = 'he_normal')(conv9)\n",
        "         conv10 = Conv2D(5, 1, activation = 'softmax')(conv9)\n",
        "         \n",
        "         self.model = Model(input = encoder.get_input_layer(), output = conv10)         \n",
        "         self.model.compile(optimizer = Adam(lr = 1e-4), loss = 'categorical_crossentropy', metrics = ['accuracy'])\n",
        "         \n",
        "     def get_model(self):         \n",
        "            return self.model            \n",
        "\n",
        "          "
      ],
      "execution_count": 0,
      "outputs": []
    },
    {
      "cell_type": "code",
      "metadata": {
        "id": "_jrJrPPqw-zW",
        "colab_type": "code",
        "outputId": "54579118-4361-4817-c58e-cfa4dab2b022",
        "colab": {
          "base_uri": "https://localhost:8080/",
          "height": 121
        }
      },
      "source": [
        "#validation data\n",
        "\n",
        "\n",
        "import cv2\n",
        "\n",
        "def prepare_validation(val_folder = PROJECT_PATH_VALIDATION ):\n",
        "  \n",
        "    background = 0\n",
        "    class1 = 77\n",
        "    class2 = 129\n",
        "    class3 = 177\n",
        "    class4 = 255\n",
        "    \n",
        "    # Grayscale dictionary to convert mask image into one-hot encoded 5-class label (and back if required).\n",
        "    # Colored mask becomes graysclale when opened in respective mode\n",
        "    # cv library converts differently from image generatory so I need to use different dictionary\n",
        "    GRAY_DICT_CV = np.array([background, class1, class2, class3, class4])\n",
        "    \n",
        "    #validation auto\n",
        "    PROJECT_PATH_VALIDATION_IM = os.path.join(PROJECT_PATH_VALIDATION, 'image')\n",
        "    val_num = len(os.listdir(PROJECT_PATH_VALIDATION_IM))\n",
        "    print(f\"Validation batch size: {val_num}\")\n",
        "    \n",
        "    \n",
        "    \n",
        "    val_auto=np.zeros((val_num, INPUT_SIZE[0], INPUT_SIZE[1], 1))\n",
        "    for i,  filename in enumerate (os.listdir(PROJECT_PATH_VALIDATION_IM)):\n",
        "        img = cv2.imread(os.path.join(PROJECT_PATH_VALIDATION_IM, filename), 0)\n",
        "        if(img.shape != INPUT_SIZE):\n",
        "            print(\"resizing val images\")\n",
        "            img = cv2.resize(img, (INPUT_SIZE[1], INPUT_SIZE[0]), interpolation = cv2.INTER_NEAREST)  # cv image size format (width, heigth) so I need to swap\n",
        "        img = img.astype('float32') / 255\n",
        "        img = np.reshape(img,img.shape+(1,))\n",
        "        val_auto[i] = img\n",
        "    \n",
        "    \n",
        "    \n",
        "    PROJECT_PATH_VALIDATION_MASK = os.path.join(PROJECT_PATH_VALIDATION, 'label')\n",
        "    \n",
        "    #validation label\n",
        "    val_hot_encoded=np.zeros((val_num, INPUT_SIZE[0], INPUT_SIZE[1], len(GRAY_DICT_CV)))\n",
        "    for i,  filename in enumerate (os.listdir(PROJECT_PATH_VALIDATION_MASK)):\n",
        "        mask = cv2.imread(os.path.join(PROJECT_PATH_VALIDATION_MASK, filename), 0)\n",
        "        if(mask.shape != INPUT_SIZE):\n",
        "          #print(\"resizing validation masks\")\n",
        "          mask = cv2.resize(mask, (INPUT_SIZE[1], INPUT_SIZE[0]), interpolation = cv2.INTER_NEAREST)  # cv image size format (width, heigth) so I need to swap\n",
        "        #mask = np.where(mask==GRAY_DICT_CV[4], 4, mask)   # backround pixels with value 0 are already treated as class0\n",
        "        mask = np.where(mask==GRAY_DICT_CV[1], 1, mask) \n",
        "        mask = np.where(mask==GRAY_DICT_CV[2], 2, mask)\n",
        "        mask = np.where(mask==GRAY_DICT_CV[3], 3, mask)\n",
        "        mask = np.where(mask==GRAY_DICT_CV[4], 4, mask)\n",
        "        \n",
        "        #print(f\"to_categorical, validation, np.unique(mask) = {np.unique(mask)}\" )\n",
        "        mask = to_categorical(mask, len(GRAY_DICT_CV))    # using Keras lib funcion to one-hot encode\n",
        "        val_hot_encoded[i] = mask  \n",
        "    return val_auto,  val_hot_encoded   \n",
        "\n",
        "val_auto, val_hot_encoded = prepare_validation()\n",
        "\n",
        "# simplified plotting function as alternative to tensorboard\n",
        "import matplotlib.pyplot as plt\n",
        "\n",
        "def plot_curves(history):\n",
        " plt.figure(figsize=(16, 6))\n",
        " plt.subplot(1, 2, 1)\n",
        " plt.plot(history.history['loss'])\n",
        " plt.plot(history.history['val_loss'])\n",
        " plt.xlabel('Epoch')\n",
        " plt.ylabel('Loss')\n",
        " plt.legend(['Training', 'Validation'])\n",
        " plt.title('Loss')\n",
        " plt.subplot(1, 2, 2)\n",
        " plt.plot(history.history['accuracy'])\n",
        " plt.plot(history.history['val_accuracy'])\n",
        " plt.xlabel('Epoch')\n",
        " plt.ylabel('Accuracy')\n",
        " plt.legend(['Training', 'Validation'])\n",
        " plt.title('Accuracy')\n",
        "\n",
        "\n",
        "from keras.callbacks import TensorBoard\n",
        "import keras.backend as K\n",
        "K.clear_session()\n",
        "\n",
        "LOG_DIR = 'tb_logs'\n",
        "\n",
        "tbCallBack = TensorBoard(log_dir=LOG_DIR, \n",
        "                         histogram_freq=1,\n",
        "                         write_graph=True,\n",
        "                         write_grads=True,\n",
        "                         batch_size=BATCH_SIZE,\n",
        "                         write_images=True)\n"
      ],
      "execution_count": 6,
      "outputs": [
        {
          "output_type": "stream",
          "text": [
            "Validation batch size: 5\n",
            "resizing val images\n",
            "resizing val images\n",
            "resizing val images\n",
            "resizing val images\n",
            "resizing val images\n"
          ],
          "name": "stdout"
        }
      ]
    },
    {
      "cell_type": "code",
      "metadata": {
        "id": "uGypwNzuWF7e",
        "colab_type": "code",
        "outputId": "538fc7f9-6021-4f4e-e182-f82ae8da4d99",
        "colab": {
          "base_uri": "https://localhost:8080/",
          "height": 158
        }
      },
      "source": [
        "encoder = UnetEncoder()\n",
        "#encoder.load_weights()\n",
        "unet = UnetAuto(encoder)\n",
        "unet_auto = unet.get_model()"
      ],
      "execution_count": 0,
      "outputs": [
        {
          "output_type": "stream",
          "text": [
            "WARNING:tensorflow:From /tensorflow-1.15.2/python3.6/tensorflow_core/python/ops/resource_variable_ops.py:1630: calling BaseResourceVariable.__init__ (from tensorflow.python.ops.resource_variable_ops) with constraint is deprecated and will be removed in a future version.\n",
            "Instructions for updating:\n",
            "If using Keras pass *_constraint arguments to layers.\n",
            "WARNING:tensorflow:From /usr/local/lib/python3.6/dist-packages/keras/backend/tensorflow_backend.py:4070: The name tf.nn.max_pool is deprecated. Please use tf.nn.max_pool2d instead.\n",
            "\n"
          ],
          "name": "stdout"
        },
        {
          "output_type": "stream",
          "text": [
            "/usr/local/lib/python3.6/dist-packages/ipykernel_launcher.py:31: UserWarning: Update your `Model` call to the Keras 2 API: `Model(inputs=Tensor(\"in..., outputs=Tensor(\"dr...)`\n",
            "/usr/local/lib/python3.6/dist-packages/ipykernel_launcher.py:136: UserWarning: Update your `Model` call to the Keras 2 API: `Model(inputs=Tensor(\"in..., outputs=Tensor(\"co...)`\n"
          ],
          "name": "stderr"
        }
      ]
    },
    {
      "cell_type": "code",
      "metadata": {
        "id": "jBSz19jnuJ5m",
        "colab_type": "code",
        "outputId": "fe2e81ec-c6e5-4a21-eed7-85965966406e",
        "colab": {
          "base_uri": "https://localhost:8080/",
          "height": 1000
        }
      },
      "source": [
        "unet_full.summary()"
      ],
      "execution_count": 0,
      "outputs": [
        {
          "output_type": "stream",
          "text": [
            "Model: \"model_6\"\n",
            "__________________________________________________________________________________________________\n",
            "Layer (type)                    Output Shape         Param #     Connected to                     \n",
            "==================================================================================================\n",
            "input_3 (InputLayer)            (None, 160, 480, 1)  0                                            \n",
            "__________________________________________________________________________________________________\n",
            "conv2d_48 (Conv2D)              (None, 160, 480, 64) 640         input_3[0][0]                    \n",
            "__________________________________________________________________________________________________\n",
            "conv2d_49 (Conv2D)              (None, 160, 480, 64) 36928       conv2d_48[0][0]                  \n",
            "__________________________________________________________________________________________________\n",
            "max_pooling2d_9 (MaxPooling2D)  (None, 80, 240, 64)  0           conv2d_49[0][0]                  \n",
            "__________________________________________________________________________________________________\n",
            "conv2d_50 (Conv2D)              (None, 80, 240, 128) 73856       max_pooling2d_9[0][0]            \n",
            "__________________________________________________________________________________________________\n",
            "conv2d_51 (Conv2D)              (None, 80, 240, 128) 147584      conv2d_50[0][0]                  \n",
            "__________________________________________________________________________________________________\n",
            "max_pooling2d_10 (MaxPooling2D) (None, 40, 120, 128) 0           conv2d_51[0][0]                  \n",
            "__________________________________________________________________________________________________\n",
            "conv2d_52 (Conv2D)              (None, 40, 120, 256) 295168      max_pooling2d_10[0][0]           \n",
            "__________________________________________________________________________________________________\n",
            "conv2d_53 (Conv2D)              (None, 40, 120, 256) 590080      conv2d_52[0][0]                  \n",
            "__________________________________________________________________________________________________\n",
            "max_pooling2d_11 (MaxPooling2D) (None, 20, 60, 256)  0           conv2d_53[0][0]                  \n",
            "__________________________________________________________________________________________________\n",
            "conv2d_54 (Conv2D)              (None, 20, 60, 512)  1180160     max_pooling2d_11[0][0]           \n",
            "__________________________________________________________________________________________________\n",
            "conv2d_55 (Conv2D)              (None, 20, 60, 512)  2359808     conv2d_54[0][0]                  \n",
            "__________________________________________________________________________________________________\n",
            "dropout_5 (Dropout)             (None, 20, 60, 512)  0           conv2d_55[0][0]                  \n",
            "__________________________________________________________________________________________________\n",
            "max_pooling2d_12 (MaxPooling2D) (None, 10, 30, 512)  0           dropout_5[0][0]                  \n",
            "__________________________________________________________________________________________________\n",
            "conv2d_56 (Conv2D)              (None, 10, 30, 1024) 4719616     max_pooling2d_12[0][0]           \n",
            "__________________________________________________________________________________________________\n",
            "conv2d_57 (Conv2D)              (None, 10, 30, 1024) 9438208     conv2d_56[0][0]                  \n",
            "__________________________________________________________________________________________________\n",
            "dropout_6 (Dropout)             (None, 10, 30, 1024) 0           conv2d_57[0][0]                  \n",
            "__________________________________________________________________________________________________\n",
            "up_sampling2d_9 (UpSampling2D)  (None, 20, 60, 1024) 0           dropout_6[0][0]                  \n",
            "__________________________________________________________________________________________________\n",
            "conv2d_58 (Conv2D)              (None, 20, 60, 512)  2097664     up_sampling2d_9[0][0]            \n",
            "__________________________________________________________________________________________________\n",
            "concatenate_5 (Concatenate)     (None, 20, 60, 1024) 0           dropout_5[0][0]                  \n",
            "                                                                 conv2d_58[0][0]                  \n",
            "__________________________________________________________________________________________________\n",
            "conv2d_59 (Conv2D)              (None, 20, 60, 512)  4719104     concatenate_5[0][0]              \n",
            "__________________________________________________________________________________________________\n",
            "conv2d_60 (Conv2D)              (None, 20, 60, 512)  2359808     conv2d_59[0][0]                  \n",
            "__________________________________________________________________________________________________\n",
            "up_sampling2d_10 (UpSampling2D) (None, 40, 120, 512) 0           conv2d_60[0][0]                  \n",
            "__________________________________________________________________________________________________\n",
            "conv2d_61 (Conv2D)              (None, 40, 120, 256) 524544      up_sampling2d_10[0][0]           \n",
            "__________________________________________________________________________________________________\n",
            "concatenate_6 (Concatenate)     (None, 40, 120, 512) 0           conv2d_53[0][0]                  \n",
            "                                                                 conv2d_61[0][0]                  \n",
            "__________________________________________________________________________________________________\n",
            "conv2d_62 (Conv2D)              (None, 40, 120, 256) 1179904     concatenate_6[0][0]              \n",
            "__________________________________________________________________________________________________\n",
            "conv2d_63 (Conv2D)              (None, 40, 120, 256) 590080      conv2d_62[0][0]                  \n",
            "__________________________________________________________________________________________________\n",
            "up_sampling2d_11 (UpSampling2D) (None, 80, 240, 256) 0           conv2d_63[0][0]                  \n",
            "__________________________________________________________________________________________________\n",
            "conv2d_64 (Conv2D)              (None, 80, 240, 128) 131200      up_sampling2d_11[0][0]           \n",
            "__________________________________________________________________________________________________\n",
            "concatenate_7 (Concatenate)     (None, 80, 240, 256) 0           conv2d_51[0][0]                  \n",
            "                                                                 conv2d_64[0][0]                  \n",
            "__________________________________________________________________________________________________\n",
            "conv2d_65 (Conv2D)              (None, 80, 240, 128) 295040      concatenate_7[0][0]              \n",
            "__________________________________________________________________________________________________\n",
            "conv2d_66 (Conv2D)              (None, 80, 240, 128) 147584      conv2d_65[0][0]                  \n",
            "__________________________________________________________________________________________________\n",
            "up_sampling2d_12 (UpSampling2D) (None, 160, 480, 128 0           conv2d_66[0][0]                  \n",
            "__________________________________________________________________________________________________\n",
            "conv2d_67 (Conv2D)              (None, 160, 480, 64) 32832       up_sampling2d_12[0][0]           \n",
            "__________________________________________________________________________________________________\n",
            "concatenate_8 (Concatenate)     (None, 160, 480, 128 0           conv2d_49[0][0]                  \n",
            "                                                                 conv2d_67[0][0]                  \n",
            "__________________________________________________________________________________________________\n",
            "conv2d_68 (Conv2D)              (None, 160, 480, 64) 73792       concatenate_8[0][0]              \n",
            "__________________________________________________________________________________________________\n",
            "conv2d_69 (Conv2D)              (None, 160, 480, 64) 36928       conv2d_68[0][0]                  \n",
            "__________________________________________________________________________________________________\n",
            "conv2d_70 (Conv2D)              (None, 160, 480, 5)  325         conv2d_69[0][0]                  \n",
            "==================================================================================================\n",
            "Total params: 31,030,853\n",
            "Trainable params: 31,030,853\n",
            "Non-trainable params: 0\n",
            "__________________________________________________________________________________________________\n"
          ],
          "name": "stdout"
        }
      ]
    },
    {
      "cell_type": "code",
      "metadata": {
        "id": "1pTOUsNNwV3U",
        "colab_type": "code",
        "colab": {}
      },
      "source": [
        "# Load the TensorBoard notebook extension\n",
        "%load_ext tensorboard\n",
        "import tensorflow as tf\n",
        "import datetime\n",
        "\n",
        "'''\n",
        "\"/content/drive/My Drive/DriveUploader/big_data/debug/tensorlogs\"  - use this sring when reading logs (and folder must be created beforehand)\n",
        "%tensorboard --logdir  \"/content/drive/My Drive/DriveUploader/data/debug/tensorlogs\"\n",
        "It's better to launch tensorboard in separate notebook to avoid any javaScript failures in current Colab notebook\n",
        "'''\n",
        "PROJECT_PATH_TENSORLOGS = os.path.join(PROJECT_PATH_DEBUG, 'tensorlogs_custom')\n",
        "logdir = os.path.join(PROJECT_PATH_TENSORLOGS, datetime.datetime.now().strftime(\"%Y%m%d-%H%M%S\"))\n",
        "tensorboard_callback = tf.keras.callbacks.TensorBoard(logdir, histogram_freq=1)"
      ],
      "execution_count": 0,
      "outputs": []
    },
    {
      "cell_type": "code",
      "metadata": {
        "id": "oNQuhq60WTKs",
        "colab_type": "code",
        "outputId": "ca979bbf-efb2-44bc-8c5d-f7a41cdaa814",
        "colab": {
          "base_uri": "https://localhost:8080/",
          "height": 1000
        }
      },
      "source": [
        "#PROJECT_PATH_TRAIN = os.path.join(PROJECT_PATH, 'train')\n",
        "#PROJECT_PATH_DEBUG = os.path.join(PROJECT_PATH, 'debug')\n",
        "PROJECT_PATH_DEBUG_AUTO = os.path.join(PROJECT_PATH_DEBUG, 'unet_auto_custom_membrane.hdf5')\n",
        "\n",
        "INPUT_SIZE = (160,480)\n",
        "INPUT_SIZE3 = INPUT_SIZE + (1,)  #(160,480,1)\n",
        "TRAIN_SIZE= len(os.listdir(os.path.join(PROJECT_PATH_TRAIN_LOCAL, \"image\"))) #280 #11935\n",
        "TEST_SIZE = len(os.listdir(os.path.join(PROJECT_PATH, \"test/image\"))) \n",
        "BATCH_SIZE = 2\n",
        "STEPS_PEPOCH=TRAIN_SIZE//BATCH_SIZE\n",
        "\n",
        "data_gen_args = dict()\n",
        "\n",
        "'''\n",
        "def trainAutoGenerator(batch_size,train_path,image_folder,aug_dict,image_color_mode = \"grayscale\",\n",
        "                    image_save_prefix  = \"image\",mask_save_prefix  = \"image\", save_to_dir = None,\n",
        "                    target_size = INPUT_SIZE,rescale = False, seed = 1):\n",
        "'''\n",
        "\n",
        "\n",
        "autoGen = trainAutoGenerator(BATCH_SIZE, PROJECT_PATH_TRAIN_LOCAL,'image', image_color_mode = \"grayscale\", aug_dict=data_gen_args, rescale = True)\n",
        "#autoGen = trainGenerator(BATCH_SIZE, PROJECT_PATH_TRAIN_LOCAL,'image','image', image_color_mode = \"grayscale\", mask_color_mode = \"grayscale\", aug_dict=data_gen_args, num_class = 5, save_to_dir = None, target_size = INPUT_SIZE)\n",
        "model_checkpoint = ModelCheckpoint(PROJECT_PATH_DEBUG_AUTO, monitor='loss',verbose=1, save_best_only=True)\n",
        "history = unet_auto.fit_generator(autoGen,steps_per_epoch=STEPS_PEPOCH,epochs=20, callbacks=[model_checkpoint, tensorboard_callback], validation_data = (val_auto, val_auto))"
      ],
      "execution_count": 0,
      "outputs": [
        {
          "output_type": "stream",
          "text": [
            "WARNING:tensorflow:From /usr/local/lib/python3.6/dist-packages/keras/backend/tensorflow_backend.py:422: The name tf.global_variables is deprecated. Please use tf.compat.v1.global_variables instead.\n",
            "\n",
            "Found 756 images belonging to 1 classes.\n",
            "Epoch 1/20\n",
            "378/378 [==============================] - 101s 268ms/step - loss: 0.1738 - accuracy: 0.0066 - val_loss: 0.1388 - val_accuracy: 0.0143\n",
            "\n",
            "Epoch 00001: loss improved from inf to 0.17380, saving model to /content/drive/My Drive/DriveUploader/big_data/debug/unet_auto_custom_membrane.hdf5\n",
            "Epoch 2/20\n",
            "378/378 [==============================] - 94s 248ms/step - loss: 0.1089 - accuracy: 0.0066 - val_loss: 0.0849 - val_accuracy: 0.0143\n",
            "\n",
            "Epoch 00002: loss improved from 0.17380 to 0.10893, saving model to /content/drive/My Drive/DriveUploader/big_data/debug/unet_auto_custom_membrane.hdf5\n",
            "Epoch 3/20\n",
            "378/378 [==============================] - 95s 252ms/step - loss: 0.0644 - accuracy: 0.0066 - val_loss: 0.0500 - val_accuracy: 0.0143\n",
            "\n",
            "Epoch 00003: loss improved from 0.10893 to 0.06444, saving model to /content/drive/My Drive/DriveUploader/big_data/debug/unet_auto_custom_membrane.hdf5\n",
            "Epoch 4/20\n",
            "378/378 [==============================] - 95s 252ms/step - loss: 0.0369 - accuracy: 0.0066 - val_loss: 0.0297 - val_accuracy: 0.0143\n",
            "\n",
            "Epoch 00004: loss improved from 0.06444 to 0.03685, saving model to /content/drive/My Drive/DriveUploader/big_data/debug/unet_auto_custom_membrane.hdf5\n",
            "Epoch 5/20\n",
            "378/378 [==============================] - 96s 254ms/step - loss: 0.0216 - accuracy: 0.0066 - val_loss: 0.0191 - val_accuracy: 0.0143\n",
            "\n",
            "Epoch 00005: loss improved from 0.03685 to 0.02156, saving model to /content/drive/My Drive/DriveUploader/big_data/debug/unet_auto_custom_membrane.hdf5\n",
            "Epoch 6/20\n",
            "378/378 [==============================] - 96s 253ms/step - loss: 0.0139 - accuracy: 0.0066 - val_loss: 0.0143 - val_accuracy: 0.0143\n",
            "\n",
            "Epoch 00006: loss improved from 0.02156 to 0.01391, saving model to /content/drive/My Drive/DriveUploader/big_data/debug/unet_auto_custom_membrane.hdf5\n",
            "Epoch 7/20\n",
            "378/378 [==============================] - 95s 252ms/step - loss: 0.0106 - accuracy: 0.0066 - val_loss: 0.0125 - val_accuracy: 0.0143\n",
            "\n",
            "Epoch 00007: loss improved from 0.01391 to 0.01061, saving model to /content/drive/My Drive/DriveUploader/big_data/debug/unet_auto_custom_membrane.hdf5\n",
            "Epoch 8/20\n",
            "378/378 [==============================] - 96s 253ms/step - loss: 0.0095 - accuracy: 0.0066 - val_loss: 0.0121 - val_accuracy: 0.0143\n",
            "\n",
            "Epoch 00008: loss improved from 0.01061 to 0.00949, saving model to /content/drive/My Drive/DriveUploader/big_data/debug/unet_auto_custom_membrane.hdf5\n",
            "Epoch 9/20\n",
            "378/378 [==============================] - 95s 253ms/step - loss: 0.0093 - accuracy: 0.0066 - val_loss: 0.0120 - val_accuracy: 0.0143\n",
            "\n",
            "Epoch 00009: loss improved from 0.00949 to 0.00926, saving model to /content/drive/My Drive/DriveUploader/big_data/debug/unet_auto_custom_membrane.hdf5\n",
            "Epoch 10/20\n",
            "378/378 [==============================] - 95s 253ms/step - loss: 0.0092 - accuracy: 0.0066 - val_loss: 0.0120 - val_accuracy: 0.0143\n",
            "\n",
            "Epoch 00010: loss improved from 0.00926 to 0.00924, saving model to /content/drive/My Drive/DriveUploader/big_data/debug/unet_auto_custom_membrane.hdf5\n",
            "Epoch 11/20\n",
            "378/378 [==============================] - 95s 253ms/step - loss: 0.0092 - accuracy: 0.0066 - val_loss: 0.0120 - val_accuracy: 0.0143\n",
            "\n",
            "Epoch 00011: loss improved from 0.00924 to 0.00924, saving model to /content/drive/My Drive/DriveUploader/big_data/debug/unet_auto_custom_membrane.hdf5\n",
            "Epoch 12/20\n",
            "378/378 [==============================] - 95s 253ms/step - loss: 0.0092 - accuracy: 0.0066 - val_loss: 0.0120 - val_accuracy: 0.0143\n",
            "\n",
            "Epoch 00012: loss did not improve from 0.00924\n",
            "Epoch 13/20\n",
            "378/378 [==============================] - 96s 253ms/step - loss: 0.0092 - accuracy: 0.0066 - val_loss: 0.0120 - val_accuracy: 0.0143\n",
            "\n",
            "Epoch 00013: loss did not improve from 0.00924\n",
            "Epoch 14/20\n",
            "378/378 [==============================] - 95s 252ms/step - loss: 0.0092 - accuracy: 0.0066 - val_loss: 0.0120 - val_accuracy: 0.0143\n",
            "\n",
            "Epoch 00014: loss improved from 0.00924 to 0.00924, saving model to /content/drive/My Drive/DriveUploader/big_data/debug/unet_auto_custom_membrane.hdf5\n",
            "Epoch 15/20\n",
            "378/378 [==============================] - 96s 253ms/step - loss: 0.0092 - accuracy: 0.0066 - val_loss: 0.0120 - val_accuracy: 0.0143\n",
            "\n",
            "Epoch 00015: loss did not improve from 0.00924\n",
            "Epoch 16/20\n",
            "378/378 [==============================] - 95s 252ms/step - loss: 0.0092 - accuracy: 0.0066 - val_loss: 0.0120 - val_accuracy: 0.0143\n",
            "\n",
            "Epoch 00016: loss did not improve from 0.00924\n",
            "Epoch 17/20\n",
            "378/378 [==============================] - 95s 252ms/step - loss: 0.0092 - accuracy: 0.0066 - val_loss: 0.0120 - val_accuracy: 0.0143\n",
            "\n",
            "Epoch 00017: loss did not improve from 0.00924\n",
            "Epoch 18/20\n",
            "378/378 [==============================] - 95s 253ms/step - loss: 0.0092 - accuracy: 0.0066 - val_loss: 0.0120 - val_accuracy: 0.0143\n",
            "\n",
            "Epoch 00018: loss did not improve from 0.00924\n",
            "Epoch 19/20\n",
            "378/378 [==============================] - 96s 253ms/step - loss: 0.0092 - accuracy: 0.0066 - val_loss: 0.0120 - val_accuracy: 0.0143\n",
            "\n",
            "Epoch 00019: loss did not improve from 0.00924\n",
            "Epoch 20/20\n",
            "378/378 [==============================] - 95s 253ms/step - loss: 0.0092 - accuracy: 0.0066 - val_loss: 0.0120 - val_accuracy: 0.0143\n",
            "\n",
            "Epoch 00020: loss did not improve from 0.00924\n"
          ],
          "name": "stdout"
        }
      ]
    },
    {
      "cell_type": "code",
      "metadata": {
        "id": "joxiT9hxNOxF",
        "colab_type": "code",
        "outputId": "b7a2b235-0e74-412f-8cf6-e5c3deae0b36",
        "colab": {
          "base_uri": "https://localhost:8080/",
          "height": 404
        }
      },
      "source": [
        "plot_curves(history)"
      ],
      "execution_count": 0,
      "outputs": [
        {
          "output_type": "display_data",
          "data": {
            "image/png": "[encoded data removed]",
            "text/plain": [
              "<Figure size 1152x432 with 2 Axes>"
            ]
          },
          "metadata": {
            "tags": [],
            "needs_background": "light"
          }
        }
      ]
    },
    {
      "cell_type": "code",
      "metadata": {
        "id": "g8UT8SwTdqpb",
        "colab_type": "code",
        "outputId": "7d549799-25c5-459c-dd1e-d526d663d7d5",
        "colab": {
          "base_uri": "https://localhost:8080/",
          "height": 34
        }
      },
      "source": [
        "PROJECT_PATH_TEST = os.path.join(PROJECT_PATH, 'test/image')\n",
        "PROJECT_PATH_TEST_RESULT = os.path.join(PROJECT_PATH, 'test_results')\n",
        "TEST_SIZE = len(os.listdir(os.path.join(PROJECT_PATH, \"test/image\")))\n",
        "testGene = testGenerator(PROJECT_PATH_TEST, resize=True)\n",
        "#model = unet(pretrained_weights = None,input_size = (160,480,1))\n",
        "#model.load_weights(\"unet_membrane.hdf5\")\n",
        "results = unet_auto.predict_generator(testGene,30,verbose=1)\n",
        "#saveResult(PROJECT_PATH_TEST_RESULT, results)\n",
        "\n",
        " "
      ],
      "execution_count": 0,
      "outputs": [
        {
          "output_type": "stream",
          "text": [
            "30/30 [==============================] - 14s 452ms/step\n"
          ],
          "name": "stdout"
        }
      ]
    },
    {
      "cell_type": "code",
      "metadata": {
        "id": "sBmhawg5boID",
        "colab_type": "code",
        "outputId": "e5a63ed4-5321-4603-ccf3-f54afe609e46",
        "colab": {
          "base_uri": "https://localhost:8080/",
          "height": 34
        }
      },
      "source": [
        "saveAutoResult(PROJECT_PATH_TEST_RESULT, results)"
      ],
      "execution_count": 0,
      "outputs": [
        {
          "output_type": "stream",
          "text": [
            "Results saved to folder /content/drive/My Drive/DriveUploader/big_data/test_results\n"
          ],
          "name": "stdout"
        }
      ]
    },
    {
      "cell_type": "markdown",
      "metadata": {
        "id": "BsjGs2Pn4IaB",
        "colab_type": "text"
      },
      "source": [
        ""
      ]
    },
    {
      "cell_type": "markdown",
      "metadata": {
        "id": "fyywrngS4Ixh",
        "colab_type": "text"
      },
      "source": [
        ""
      ]
    },
    {
      "cell_type": "markdown",
      "metadata": {
        "id": "YNh5Mvy_4I-w",
        "colab_type": "text"
      },
      "source": [
        ""
      ]
    },
    {
      "cell_type": "markdown",
      "metadata": {
        "id": "dECAqEFj4JML",
        "colab_type": "text"
      },
      "source": [
        ""
      ]
    },
    {
      "cell_type": "markdown",
      "metadata": {
        "id": "P2rifMAv4Jkx",
        "colab_type": "text"
      },
      "source": [
        ""
      ]
    },
    {
      "cell_type": "code",
      "metadata": {
        "id": "4qOoOMnCBu93",
        "colab_type": "code",
        "outputId": "5e068edc-d4eb-4ca1-cecd-01464941f46e",
        "colab": {
          "base_uri": "https://localhost:8080/",
          "height": 72
        }
      },
      "source": [
        "encoder = UnetEncoder()\n",
        "unet = UnetExtra(encoder)\n",
        "unet_extra = unet.get_model()\n"
      ],
      "execution_count": 0,
      "outputs": [
        {
          "output_type": "stream",
          "text": [
            "/usr/local/lib/python3.6/dist-packages/ipykernel_launcher.py:31: UserWarning: Update your `Model` call to the Keras 2 API: `Model(inputs=Tensor(\"in..., outputs=Tensor(\"dr...)`\n",
            "/usr/local/lib/python3.6/dist-packages/ipykernel_launcher.py:175: UserWarning: Update your `Model` call to the Keras 2 API: `Model(inputs=Tensor(\"in..., outputs=Tensor(\"co...)`\n"
          ],
          "name": "stderr"
        }
      ]
    },
    {
      "cell_type": "code",
      "metadata": {
        "id": "VPrzE2Lrue8_",
        "colab_type": "code",
        "colab": {}
      },
      "source": [
        "\n",
        "#unet_full = unet.get_model()\n",
        "PROJECT_PATH_DEBUG_FULL = os.path.join(PROJECT_PATH_DEBUG, 'big_unet_full_membrane.hdf5')\n",
        "unet_full.load_weights(PROJECT_PATH_DEBUG_FULL)"
      ],
      "execution_count": 0,
      "outputs": []
    },
    {
      "cell_type": "code",
      "metadata": {
        "id": "6HL32OutuzWF",
        "colab_type": "code",
        "outputId": "85445c0e-4af4-47f5-d6b1-6885584296df",
        "colab": {
          "base_uri": "https://localhost:8080/",
          "height": 381
        }
      },
      "source": [
        "!ls '/content/drive/My Drive/DriveUploader/big_data/debug'"
      ],
      "execution_count": 0,
      "outputs": [
        {
          "output_type": "stream",
          "text": [
            "autoencoder_small_weights.h5\n",
            "big_unet_full_membrane.hdf5\n",
            "classical_model\n",
            "intermediate\n",
            "tensorlogs_auto_big_model\n",
            "tensorlogs_auto_pretraining2\n",
            "tensorlogs_auto_small\n",
            "tensorlogs_auto_small_full_depth\n",
            "tensorlogs_custom\n",
            "tensorlogs_junk\n",
            "tensorlogs_junk2\n",
            "tensorlogs_training_full_pretrained\n",
            "unet_auto_custom_membrane.hdf5\n",
            "unet_extra_membrane.hdf5\n",
            "unet_full_auto_membrane.hdf5\n",
            "unet_full_small_membrane_trained_large_set.hdf5\n",
            "unet_full_small_small_set_membrane.hdf5\n",
            "unet_full_small_small_set_pretrained_membrane.hdf5\n",
            "unet_small_auto_membrane.hdf5\n",
            "unet_small_auto_pre_pretrained_membrane.hdf5\n",
            "unet_small_auto_pretrained_membrane.hdf5\n"
          ],
          "name": "stdout"
        }
      ]
    },
    {
      "cell_type": "code",
      "metadata": {
        "id": "Fk4p8P304NiP",
        "colab_type": "code",
        "outputId": "2f7c089f-b126-42ef-e72d-4cf78519c465",
        "colab": {
          "base_uri": "https://localhost:8080/",
          "height": 1000
        }
      },
      "source": [
        "PROJECT_PATH_TRAIN = os.path.join(PROJECT_PATH, 'train')\n",
        "PROJECT_PATH_TRAIN_LOCAL = './small_data/train/'\n",
        "PROJECT_PATH_DEBUG = os.path.join(PROJECT_PATH, 'debug')\n",
        "PROJECT_PATH_DEBUG_FULL = os.path.join(PROJECT_PATH, 'unet_extra_custom_membrane.hdf5')\n",
        "\n",
        "INPUT_SIZE = (160,480)\n",
        "INPUT_SIZE3 = INPUT_SIZE + (1,)  #(160,480,1)\n",
        "TRAIN_SIZE= len(os.listdir(os.path.join(PROJECT_PATH_TRAIN_LOCAL, \"image\"))) #280 #11935\n",
        "TEST_SIZE = len(os.listdir(os.path.join(PROJECT_PATH, \"test/image\"))) \n",
        "BATCH_SIZE = 2\n",
        "STEPS_PEPOCH=TRAIN_SIZE//BATCH_SIZE\n",
        "\n",
        "PROJECT_PATH_TRAIN = os.path.join(PROJECT_PATH, 'train')\n",
        "data_gen_args = dict()\n",
        "'''\n",
        "def trainGenerator(batch_size,train_path,image_folder,mask_folder,aug_dict,image_color_mode = \"grayscale\",\n",
        "                    mask_color_mode = \"grayscale\",image_save_prefix  = \"image\",mask_save_prefix  = \"mask\",\n",
        "                    flag_multi_class = False,num_class = 5,save_to_dir = None,target_size = (160,480), rescale = False, seed = 1):\n",
        "\n",
        "'''\n",
        "myGene = trainGenerator(BATCH_SIZE, PROJECT_PATH_TRAIN_LOCAL,'image','label', image_color_mode = \"grayscale\", mask_color_mode = \"grayscale\", aug_dict=data_gen_args, num_class = 5, save_to_dir = None, target_size = (160,480), rescale = True)\n",
        "model_checkpoint = ModelCheckpoint(PROJECT_PATH_DEBUG_FULL, monitor='loss',verbose=1, save_best_only=True)\n",
        "history = unet_extra.fit_generator(myGene,steps_per_epoch=STEPS_PEPOCH,epochs=20, callbacks=[model_checkpoint], validation_data = (val_auto, val_hot_encoded))"
      ],
      "execution_count": 0,
      "outputs": [
        {
          "output_type": "stream",
          "text": [
            "Found 756 images belonging to 1 classes.\n",
            "Found 756 images belonging to 1 classes.\n",
            "Epoch 1/20\n",
            "378/378 [==============================] - 42s 110ms/step - loss: 0.9106 - accuracy: 0.7721 - val_loss: 0.6980 - val_accuracy: 0.8489\n",
            "\n",
            "Epoch 00001: loss improved from inf to 0.91060, saving model to /content/drive/My Drive/DriveUploader/big_data/unet_extra_custom_membrane.hdf5\n",
            "Epoch 2/20\n",
            "378/378 [==============================] - 41s 108ms/step - loss: 0.5678 - accuracy: 0.8730 - val_loss: 0.6710 - val_accuracy: 0.8363\n",
            "\n",
            "Epoch 00002: loss improved from 0.91060 to 0.56785, saving model to /content/drive/My Drive/DriveUploader/big_data/unet_extra_custom_membrane.hdf5\n",
            "Epoch 3/20\n",
            "378/378 [==============================] - 41s 108ms/step - loss: 0.5493 - accuracy: 0.8754 - val_loss: 0.6578 - val_accuracy: 0.8460\n",
            "\n",
            "Epoch 00003: loss improved from 0.56785 to 0.54928, saving model to /content/drive/My Drive/DriveUploader/big_data/unet_extra_custom_membrane.hdf5\n",
            "Epoch 4/20\n",
            "378/378 [==============================] - 41s 108ms/step - loss: 0.5330 - accuracy: 0.8770 - val_loss: 0.6900 - val_accuracy: 0.8481\n",
            "\n",
            "Epoch 00004: loss improved from 0.54928 to 0.53297, saving model to /content/drive/My Drive/DriveUploader/big_data/unet_extra_custom_membrane.hdf5\n",
            "Epoch 5/20\n",
            "378/378 [==============================] - 41s 108ms/step - loss: 0.5189 - accuracy: 0.8776 - val_loss: 0.6020 - val_accuracy: 0.8557\n",
            "\n",
            "Epoch 00005: loss improved from 0.53297 to 0.51893, saving model to /content/drive/My Drive/DriveUploader/big_data/unet_extra_custom_membrane.hdf5\n",
            "Epoch 6/20\n",
            "378/378 [==============================] - 41s 108ms/step - loss: 0.5012 - accuracy: 0.8782 - val_loss: 0.6351 - val_accuracy: 0.8622\n",
            "\n",
            "Epoch 00006: loss improved from 0.51893 to 0.50119, saving model to /content/drive/My Drive/DriveUploader/big_data/unet_extra_custom_membrane.hdf5\n",
            "Epoch 7/20\n",
            "378/378 [==============================] - 41s 108ms/step - loss: 0.4960 - accuracy: 0.8768 - val_loss: 0.7407 - val_accuracy: 0.8551\n",
            "\n",
            "Epoch 00007: loss improved from 0.50119 to 0.49596, saving model to /content/drive/My Drive/DriveUploader/big_data/unet_extra_custom_membrane.hdf5\n",
            "Epoch 8/20\n",
            "378/378 [==============================] - 41s 107ms/step - loss: 0.4792 - accuracy: 0.8780 - val_loss: 0.6123 - val_accuracy: 0.8629\n",
            "\n",
            "Epoch 00008: loss improved from 0.49596 to 0.47921, saving model to /content/drive/My Drive/DriveUploader/big_data/unet_extra_custom_membrane.hdf5\n",
            "Epoch 9/20\n",
            "378/378 [==============================] - 41s 108ms/step - loss: 0.4598 - accuracy: 0.8785 - val_loss: 0.6088 - val_accuracy: 0.8631\n",
            "\n",
            "Epoch 00009: loss improved from 0.47921 to 0.45983, saving model to /content/drive/My Drive/DriveUploader/big_data/unet_extra_custom_membrane.hdf5\n",
            "Epoch 10/20\n",
            "378/378 [==============================] - 41s 108ms/step - loss: 0.4458 - accuracy: 0.8783 - val_loss: 0.6532 - val_accuracy: 0.8586\n",
            "\n",
            "Epoch 00010: loss improved from 0.45983 to 0.44584, saving model to /content/drive/My Drive/DriveUploader/big_data/unet_extra_custom_membrane.hdf5\n",
            "Epoch 11/20\n",
            "378/378 [==============================] - 41s 108ms/step - loss: 0.4324 - accuracy: 0.8781 - val_loss: 0.5982 - val_accuracy: 0.8611\n",
            "\n",
            "Epoch 00011: loss improved from 0.44584 to 0.43245, saving model to /content/drive/My Drive/DriveUploader/big_data/unet_extra_custom_membrane.hdf5\n",
            "Epoch 12/20\n",
            "378/378 [==============================] - 41s 108ms/step - loss: 0.4294 - accuracy: 0.8913 - val_loss: 0.6663 - val_accuracy: 0.8612\n",
            "\n",
            "Epoch 00012: loss improved from 0.43245 to 0.42941, saving model to /content/drive/My Drive/DriveUploader/big_data/unet_extra_custom_membrane.hdf5\n",
            "Epoch 13/20\n",
            "378/378 [==============================] - 41s 108ms/step - loss: 0.3876 - accuracy: 0.9221 - val_loss: 0.5576 - val_accuracy: 0.9118\n",
            "\n",
            "Epoch 00013: loss improved from 0.42941 to 0.38763, saving model to /content/drive/My Drive/DriveUploader/big_data/unet_extra_custom_membrane.hdf5\n",
            "Epoch 14/20\n",
            "378/378 [==============================] - 41s 107ms/step - loss: 0.3545 - accuracy: 0.9466 - val_loss: 0.5573 - val_accuracy: 0.9305\n",
            "\n",
            "Epoch 00014: loss improved from 0.38763 to 0.35449, saving model to /content/drive/My Drive/DriveUploader/big_data/unet_extra_custom_membrane.hdf5\n",
            "Epoch 15/20\n",
            "378/378 [==============================] - 41s 107ms/step - loss: 0.3386 - accuracy: 0.9655 - val_loss: 0.5686 - val_accuracy: 0.9282\n",
            "\n",
            "Epoch 00015: loss improved from 0.35449 to 0.33857, saving model to /content/drive/My Drive/DriveUploader/big_data/unet_extra_custom_membrane.hdf5\n",
            "Epoch 16/20\n",
            "378/378 [==============================] - 41s 107ms/step - loss: 0.3260 - accuracy: 0.9674 - val_loss: 0.5402 - val_accuracy: 0.9333\n",
            "\n",
            "Epoch 00016: loss improved from 0.33857 to 0.32601, saving model to /content/drive/My Drive/DriveUploader/big_data/unet_extra_custom_membrane.hdf5\n",
            "Epoch 17/20\n",
            "378/378 [==============================] - 41s 107ms/step - loss: 0.3148 - accuracy: 0.9681 - val_loss: 0.5465 - val_accuracy: 0.9351\n",
            "\n",
            "Epoch 00017: loss improved from 0.32601 to 0.31479, saving model to /content/drive/My Drive/DriveUploader/big_data/unet_extra_custom_membrane.hdf5\n",
            "Epoch 18/20\n",
            "378/378 [==============================] - 41s 107ms/step - loss: 0.3040 - accuracy: 0.9691 - val_loss: 0.5190 - val_accuracy: 0.9343\n",
            "\n",
            "Epoch 00018: loss improved from 0.31479 to 0.30399, saving model to /content/drive/My Drive/DriveUploader/big_data/unet_extra_custom_membrane.hdf5\n",
            "Epoch 19/20\n",
            "378/378 [==============================] - 41s 107ms/step - loss: 0.2939 - accuracy: 0.9701 - val_loss: 0.5295 - val_accuracy: 0.9350\n",
            "\n",
            "Epoch 00019: loss improved from 0.30399 to 0.29386, saving model to /content/drive/My Drive/DriveUploader/big_data/unet_extra_custom_membrane.hdf5\n",
            "Epoch 20/20\n",
            "378/378 [==============================] - 41s 108ms/step - loss: 0.2834 - accuracy: 0.9711 - val_loss: 0.5353 - val_accuracy: 0.9305\n",
            "\n",
            "Epoch 00020: loss improved from 0.29386 to 0.28341, saving model to /content/drive/My Drive/DriveUploader/big_data/unet_extra_custom_membrane.hdf5\n"
          ],
          "name": "stdout"
        }
      ]
    },
    {
      "cell_type": "markdown",
      "metadata": {
        "id": "PlvVYwo70-Je",
        "colab_type": "text"
      },
      "source": [
        "-------------------------------------------------------------------------------------"
      ]
    },
    {
      "cell_type": "code",
      "metadata": {
        "id": "bmvnTxME6g5p",
        "colab_type": "code",
        "outputId": "4f5b01d7-49ff-439a-b4a4-3ba3b2721e7b",
        "colab": {
          "base_uri": "https://localhost:8080/",
          "height": 404
        }
      },
      "source": [
        "plot_curves(history)"
      ],
      "execution_count": 0,
      "outputs": [
        {
          "output_type": "display_data",
          "data": {
            "image/png": "[encoded data removed]",
            "text/plain": [
              "<Figure size 1152x432 with 2 Axes>"
            ]
          },
          "metadata": {
            "tags": [],
            "needs_background": "light"
          }
        }
      ]
    },
    {
      "cell_type": "code",
      "metadata": {
        "id": "DEHB9AkxS1EF",
        "colab_type": "code",
        "outputId": "27c14382-7501-4349-a98a-862c4dee4c74",
        "colab": {
          "base_uri": "https://localhost:8080/",
          "height": 34
        }
      },
      "source": [
        "PROJECT_PATH_TEST = os.path.join(PROJECT_PATH, 'test/image')\n",
        "PROJECT_PATH_TEST_RESULT = os.path.join(PROJECT_PATH, 'test_results')\n",
        "TEST_SIZE = len(os.listdir(PROJECT_PATH_TEST))\n",
        "testGene = testGenerator(PROJECT_PATH_TEST, resize=True)\n",
        "#model = unet(pretrained_weights = None,input_size = (160,480,1))\n",
        "#model.load_weights(\"unet_membrane.hdf5\")\n",
        "results = unet_full_custom.predict_generator(testGene,TEST_SIZE,verbose=1)\n",
        "#saveResult(PROJECT_PATH_TEST_RESULT, results)"
      ],
      "execution_count": 0,
      "outputs": [
        {
          "output_type": "stream",
          "text": [
            "30/30 [==============================] - 1s 23ms/step\n"
          ],
          "name": "stdout"
        }
      ]
    },
    {
      "cell_type": "code",
      "metadata": {
        "id": "LWz4CBh-jpeL",
        "colab_type": "code",
        "outputId": "c08522ec-6481-45ca-a969-0c04683568e8",
        "colab": {
          "base_uri": "https://localhost:8080/",
          "height": 34
        }
      },
      "source": [
        "saveResultColored(PROJECT_PATH_TEST_RESULT, results)"
      ],
      "execution_count": 0,
      "outputs": [
        {
          "output_type": "stream",
          "text": [
            "Results saved to folder /content/drive/My Drive/DriveUploader/big_data/test_results\n"
          ],
          "name": "stdout"
        }
      ]
    },
    {
      "cell_type": "code",
      "metadata": {
        "id": "zyw5OVzg1uCu",
        "colab_type": "code",
        "outputId": "23ea539c-1931-413a-b7d8-87bc3e62416a",
        "colab": {
          "base_uri": "https://localhost:8080/",
          "height": 72
        }
      },
      "source": [
        "encoder = UnetEncoder()\n",
        "unet = UnetFull(encoder)\n",
        "unet_full = unet.get_model()\n"
      ],
      "execution_count": 0,
      "outputs": [
        {
          "output_type": "stream",
          "text": [
            "/usr/local/lib/python3.6/dist-packages/ipykernel_launcher.py:31: UserWarning: Update your `Model` call to the Keras 2 API: `Model(inputs=Tensor(\"in..., outputs=Tensor(\"dr...)`\n",
            "/usr/local/lib/python3.6/dist-packages/ipykernel_launcher.py:95: UserWarning: Update your `Model` call to the Keras 2 API: `Model(inputs=Tensor(\"in..., outputs=Tensor(\"co...)`\n"
          ],
          "name": "stderr"
        }
      ]
    },
    {
      "cell_type": "code",
      "metadata": {
        "id": "d4xSJb8CJJN0",
        "colab_type": "code",
        "outputId": "391a46c7-d46d-4c18-f3e2-a521e908f2a2",
        "colab": {
          "base_uri": "https://localhost:8080/",
          "height": 34
        }
      },
      "source": [
        "PROJECT_PATH_DEBUG = os.path.join(PROJECT_PATH, 'debug')\n",
        "PROJECT_PATH_SAVED_MODEL = os.path.join(PROJECT_PATH_DEBUG, 'big_unet_full_membrane.hdf5')\n",
        "PROJECT_PATH_SAVED_MODEL"
      ],
      "execution_count": 0,
      "outputs": [
        {
          "output_type": "execute_result",
          "data": {
            "text/plain": [
              "'/content/drive/My Drive/DriveUploader/big_data/debug/big_unet_full_membrane.hdf5'"
            ]
          },
          "metadata": {
            "tags": []
          },
          "execution_count": 12
        }
      ]
    },
    {
      "cell_type": "code",
      "metadata": {
        "id": "mAqBpma7JDmd",
        "colab_type": "code",
        "colab": {}
      },
      "source": [
        "unet_full.load_weights(PROJECT_PATH_SAVED_MODEL)"
      ],
      "execution_count": 0,
      "outputs": []
    },
    {
      "cell_type": "code",
      "metadata": {
        "id": "LVz6N3rWJyAE",
        "colab_type": "code",
        "outputId": "48e3abe4-a436-4189-ca6a-c38a48fb7471",
        "colab": {
          "base_uri": "https://localhost:8080/",
          "height": 34
        }
      },
      "source": [
        "PROJECT_PATH_TEST = os.path.join(PROJECT_PATH, 'test_ws07_noise')\n",
        "PROJECT_PATH_TEST_RESULT = os.path.join(PROJECT_PATH, 'test_results')\n",
        "TEST_SIZE = len(os.listdir(PROJECT_PATH_TEST))\n",
        "testGene = testGenerator(PROJECT_PATH_TEST, resize=True)\n",
        "#model = unet(pretrained_weights = None,input_size = (160,480,1))\n",
        "#model.load_weights(\"unet_membrane.hdf5\")\n",
        "results = unet_full.predict_generator(testGene,TEST_SIZE,verbose=1)\n",
        "#saveResult(PROJECT_PATH_TEST_RESULT, results)"
      ],
      "execution_count": 0,
      "outputs": [
        {
          "output_type": "stream",
          "text": [
            "104/104 [==============================] - 45s 437ms/step\n"
          ],
          "name": "stdout"
        }
      ]
    },
    {
      "cell_type": "code",
      "metadata": {
        "id": "dhLnYNSlLbiX",
        "colab_type": "code",
        "outputId": "c92b5d4c-2cc8-4512-c806-8fe565248293",
        "colab": {
          "base_uri": "https://localhost:8080/",
          "height": 34
        }
      },
      "source": [
        "saveResultColored(PROJECT_PATH_TEST_RESULT, results)"
      ],
      "execution_count": 0,
      "outputs": [
        {
          "output_type": "stream",
          "text": [
            "Results saved to folder /content/drive/My Drive/DriveUploader/big_data/test_results\n"
          ],
          "name": "stdout"
        }
      ]
    }
  ]
}